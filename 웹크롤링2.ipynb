{
 "cells": [
  {
   "cell_type": "code",
   "execution_count": 1,
   "id": "af8541d1-86f1-49c2-97b5-523e858b3021",
   "metadata": {},
   "outputs": [
    {
     "ename": "ModuleNotFoundError",
     "evalue": "No module named 'bs4'",
     "output_type": "error",
     "traceback": [
      "\u001b[1;31m---------------------------------------------------------------------------\u001b[0m",
      "\u001b[1;31mModuleNotFoundError\u001b[0m                       Traceback (most recent call last)",
      "Cell \u001b[1;32mIn[1], line 2\u001b[0m\n\u001b[0;32m      1\u001b[0m \u001b[38;5;28;01mimport\u001b[39;00m \u001b[38;5;21;01mrequests\u001b[39;00m \n\u001b[1;32m----> 2\u001b[0m \u001b[38;5;28;01mfrom\u001b[39;00m \u001b[38;5;21;01mbs4\u001b[39;00m \u001b[38;5;28;01mimport\u001b[39;00m BeautifulSoup\n\u001b[0;32m      3\u001b[0m \u001b[38;5;66;03m# 파이썬은 라이브러리가 매우 많다. \u001b[39;00m\n\u001b[0;32m      4\u001b[0m \u001b[38;5;66;03m# 크롤링은 requests(웹페이지 가져오기), bs4(=Beautiful Soup, html번역, 웹페이지 분석, 크롤링)\u001b[39;00m\n\u001b[0;32m      5\u001b[0m \u001b[38;5;66;03m# 대문자는 class임.\u001b[39;00m\n\u001b[0;32m      7\u001b[0m res \u001b[38;5;241m=\u001b[39m requests\u001b[38;5;241m.\u001b[39mget(\u001b[38;5;124m'\u001b[39m\u001b[38;5;124mhttps://n.news.naver.com/mnews/hotissue/article/032/0003297557?type=series&cid=2001071\u001b[39m\u001b[38;5;124m'\u001b[39m)\n",
      "\u001b[1;31mModuleNotFoundError\u001b[0m: No module named 'bs4'"
     ]
    }
   ],
   "source": [
    "import requests \n",
    "from bs4 import BeautifulSoup\n",
    "# 파이썬은 라이브러리가 매우 많다. \n",
    "# 크롤링은 requests(웹페이지 가져오기), bs4(=Beautiful Soup, html번역, 웹페이지 분석, 크롤링)\n",
    "# 대문자는 class임.\n",
    "\n",
    "res = requests.get('https://n.news.naver.com/mnews/hotissue/article/032/0003297557?type=series&cid=2001071')\n",
    "# 네이버와 대화 시도"
   ]
  },
  {
   "cell_type": "code",
   "execution_count": 32,
   "id": "a065f9ac-276d-4dae-8995-9ed98055ddc1",
   "metadata": {},
   "outputs": [
    {
     "name": "stdout",
     "output_type": "stream",
     "text": [
      "<class 'requests.models.Response'>\n",
      "None\n"
     ]
    }
   ],
   "source": [
    "## 인프런 강의 따라하기\n",
    "\n",
    "print(type(res))\n",
    "# res.content\n",
    "# print(html)\n",
    "\n",
    "soup = BeautifulSoup(res.content, 'html.parser')\n",
    "mydata = soup.find('title')\n",
    "print(mydata.get_text())"
   ]
  },
  {
   "cell_type": "code",
   "execution_count": 39,
   "id": "37adb9d7-c98b-4344-8662-3f99050a056d",
   "metadata": {},
   "outputs": [],
   "source": [
    "## 스타트코딩 유툽 따라하기\n",
    "\n",
    "html = res.text\n",
    "\n",
    "soup = BeautifulSoup(html, 'html.parser') # 번역하기\n",
    "word = soup.select_one(\"#dic_area\") # CSS 선택자 (id는 #, class는 .)\n",
    "# print(word.text)                       "
   ]
  },
  {
   "cell_type": "code",
   "execution_count": null,
   "id": "ae036a84-4439-4f5f-98df-15999cefe06e",
   "metadata": {},
   "outputs": [],
   "source": []
  },
  {
   "cell_type": "code",
   "execution_count": 62,
   "id": "6c563c7c-bb6b-4e4e-a467-83a12e7ce815",
   "metadata": {},
   "outputs": [
    {
     "name": "stdout",
     "output_type": "stream",
     "text": [
      "<class 'bs4.element.ResultSet'>\n",
      "철원서 아프리카돼지열병 발생…1200마리 살처분 예정\n",
      " 차량마다 '기웃기웃'‥아파트 주차장에서 무슨 일이?[와글와글]\n",
      "[속보]육군 32사단 훈련 중 수류탄 폭발...병사 1명 사망\n",
      "공수처 첫 출근 오동운 “수사에서 훌륭한 차장 모실 것”\n",
      "정원도시 영등포구에 ‘민족 상징’ 무궁화 수천 그루 활짝\n",
      "'파타야 살인' 피의자, 살인방조→강도살인 혐의 바꿔 송치\n",
      "울산시 '지갑없는 주차장' 70곳으로 확대…6월까지\n",
      "'AI 안면인식'으로 아동·청소년 성착취물 잡는다\n",
      "창원시 중국 연대·대경시 우호교류 협력…한중 교류 촉진\n",
      "'음주 뺑소니' 김호중 구속영장 신청‥소속사 대표도\n",
      "‘버닝썬 때문?’ 구하라 사망 50일 뒤 자택 절도 사건…재조명 된 이유\n",
      "[단독] 김호중 \"식당·업소서 소주 10잔…성대 보호하려 자제\"\n",
      "'용모 불량, 탈락' 입시비리 의혹 교장 \"불합격·점수변경 지시 안 했다\"\n",
      "\"배현진과 약혼한 사이\" 난동 부린 50대 男, 재판서 혐의 인정\n",
      "\"외모불량 학생 감점시켜라\"…특성화고 교장, 첫 재판서 혐의 부인\n",
      "법원행정처, '사법부 北해킹' 피해자 4830명 피해사실 통지\n",
      "연금행동 \"21대 국회 끝나기 전에 연금개혁해야\"\n",
      "운전 내내 '휴대전화 삼매경'‥\"7월부터 과태료\"\n",
      "노원구 “광운대역세권 개발 인·허가 등 적극 협력”\n",
      "이웃 건물주 간 갈등 방화로 이어져…60대 피의자 등 4명 부상(종합)\n",
      "\"죽은 후에도 한 풀어달라\" 강제동원 피해자 유족 손배 소송 1심서 일부 승소\n",
      "노동자 70% 덮칠 폭염... 정부 \"10분 휴식\" 강조하나 강제 아냐\n",
      "청주 상가서 여성 살해한 50대 검거…제2중부고속도로 화물차 불\n",
      "연세대 의대 \"학생들 휴학 신청 승인하겠다…복귀 명분 없어\"\n",
      "경찰, 김호중 구속 영장 신청…\"메모리카드 삼켰다\"\n",
      "늘봄학교 방학 중 이용 가능…저녁 8시까지 의무 아니다\n",
      "늘어나는 딥페이크… ‘야짤’ 아니라 ‘성범죄물’ 입니다[현장에서]\n",
      "‘코드’ 버리니… 대법관 후보추천 100명 넘었다\n",
      "‘지인 여성 폭행·스토킹’ 전 김제 시의원, 제명 정지 법원서 기각\n",
      "20년 함께 산 ‘피보다 진한’ 친구인데… “가족 아니라 수술동의도 못해줘”[‘가족’이 달라진다]\n",
      "“우린 가족으로 인정받을 수 없나요” [‘가족’이 달라진다]\n",
      "김계환·박정훈 조사‥'격노설' 대질은 불발\n",
      "버티다 나온 김호중, 150만원 몽클레르 바람막이 입고 있었다\n",
      "김호중 車 블박 메모리카드 어디에…소속사 본부장 \"삼켰다\" 진술\n",
      "검찰 인사위원회 앞두고 중간간부 2명 추가 사의 표명\n",
      "'음주 뺑소니' 김호중 구속영장 신청‥소속사 대표도\n",
      "어린시절 썼던 게시글이 놀림거리?…\"'지우개' 서비스 있어요\"\n",
      "노관규 순천시장 \"목포대 공공의대 설립해야\" 제안\n",
      "대기온도→체감온도…사업장 온열질환 예방 기준 바뀐다\n",
      "김형수 부산지검 동부지청장 사의…검찰 중간 간부 2명 추가 사표(종합)\n",
      "강원 철원서 올해 3번째 ASF 발생…48시간 이동중지\n",
      "[이시각헤드라인] 5월 22일 뉴스센터12\n",
      "경찰, '음주 뺑소니' 김호중 구속영장 신청…소속사 대표 등 2명도\n",
      "올해 수능도 '킬러문항' 배제…사설 모의고사 '판박이 문항' 검증 강화\n",
      "'체감온도 33도면 매시간 10분 휴식'…근로자 맞춤형 폭염 예보\n",
      "\"1살 때 위탁 온 아이, 지금은 말년 휴가에 찾아와요\" [위기아동의 희망, 가정위탁③]\n"
     ]
    }
   ],
   "source": [
    "import requests \n",
    "from bs4 import BeautifulSoup\n",
    "\n",
    "h = {'User-agent' : 'Mozila/2.0'}  # mozila웹브라우저로 접속한 것처럼 만들기(봇인줄 알고 차단할 경우)\n",
    "res = requests.get('https://news.naver.com/section/102', headers=h)\n",
    "\n",
    "# 한개 가져와보기\n",
    "soup = BeautifulSoup(res.text, 'html.parser')\n",
    "title1 = soup.select_one('.sa_text_strong')\n",
    "# print(title1)\n",
    "# print(type(title1))\n",
    "# print(type(title1.text))\n",
    "# print(title1.text)\n",
    "\n",
    "# 여러개 가져와보기\n",
    "title2 = soup.select('.sa_text_strong')\n",
    "# print(title1)\n",
    "print(type(title2))\n",
    "# print(title2)\n",
    "\n",
    "for t in title2 :\n",
    "    print(t.text)"
   ]
  },
  {
   "cell_type": "code",
   "execution_count": 67,
   "id": "25f5f58a-1364-4b3a-bac8-5c8cdf9be3b6",
   "metadata": {},
   "outputs": [
    {
     "name": "stdout",
     "output_type": "stream",
     "text": [
      "1분기 주요 대기업 고용증가율 0.2%…삼성전자 3천여명 늘어\n",
      "https://www.yna.co.kr/view/AKR20240522046900003?input=1195m\n",
      "'역대급 실적' 기록…삼성전자 제쳤다\n",
      "http://www.wowtv.co.kr/NewsCenter/News/Read?articleId=A202405220011&t=NN\n",
      "[속보] 삼성전자 반도체 수장 교체…전영현 부회장 선임\n",
      "https://www.joongang.co.kr/article/25250697\n",
      "삼성전자 반도체 수장 전격 교체…부문장에 전영현 부회장\n",
      "https://www.chosun.com/economy/tech_it/2024/05/21/ZBJ7LVJNO5FSDC2LPPBEQA4734/?utm_source=naver&utm_medium=referral&utm_campaign=naver-news\n",
      "삼성전자 반도체 수장 전격 교체...무슨 일 벌어졌나\n",
      "https://magazine.hankyung.com/business/article/202405211918b\n",
      "삼성전자 반도체 수장에 전영현 부회장\n",
      "https://news.tvchosun.com/site/data/html_dir/2024/05/21/2024052190038.html\n",
      "위기의 삼성 반도체…전영현 구원투수로\n",
      "https://www.hankyung.com/article/2024052136241\n",
      "삼성전자 반도체 새 수장왔는데...노조는 창사후 두번째 단체행동 예고\n",
      "https://www.mk.co.kr/article/11021639\n",
      "\"차원이 다른 로봇청소기\"…삼성전자 신제품 美·英 호평\n",
      "http://www.edaily.co.kr/news/newspath.asp?newsid=01512086638891544\n",
      "삼성전자, 1분기 세계 TV시장 1위… LG전자는 올레드TV 점유율 52%\n",
      "http://www.segye.com/newsView/20240521515745?OutUrl=naver\n",
      "\n",
      "\n",
      " 삼성전자, 1분기 고용 3000명 늘렸다…HD현대重도 1000명 육박  뉴스12시간 전네이버뉴스 \n",
      " 1분기 대기업 고용 증가율 0.2％…삼성전자 3000명으로 최대  한국경제18분 전네이버뉴스 \n",
      " 대기업 40곳 1Q 고용 증가율 0.2%…삼성전자 3000명 최다  이데일리2시간 전네이버뉴스 \n",
      " 대기업 1분기 고용증가 고작 0.2%…삼성전자 홀로 3천명 고용  노컷뉴스2시간 전네이버뉴스 \n",
      " 현대차, 대기업 경영평가 첫 1위…2위 삼성전자, 3위 LG화학  JTBC언론사 선정2시간 전네이버뉴스 \n",
      " ‘역대급 실적’ 현대차, 대기업 경영평가도 첫 1위…삼성전자는?  문화일보언론사 선정5시간 전네이버뉴스 \n",
      " '역대급 실적' 현대차, 대기업 경영평가 첫 1위…삼성전자는 2위  연합뉴스언론사 선정7시간 전네이버뉴스 \n",
      " 현대차, 대기업 경영평가 첫 1위…삼성전자는 2위  한경비즈니스언론사 선정4시간 전네이버뉴스 \n",
      " 삼성전자 반도체 수장 전격 교체…'반도체 신화' 전영현 부회장 등판  MBN언론사 선정17시간 전네이버뉴스 \n",
      " 삼성 반도체 수장 전격 교체… 전영현 부회장이 이끈다  세계일보언론사 선정1일 전네이버뉴스 \n",
      " [2보] 삼성전자, 반도체 수장 전격 교체…새 수장에 전영현 부회장  연합뉴스언론사 선정1일 전네이버뉴스 \n",
      " '경계현→전영현' 삼성전자, 수장 교체로 반도체 분위기 쇄신  더팩트언론사 선정1일 전네이버뉴스 \n",
      " 엔비디아 계약 실패 탓?… 삼성전자 반도체 수장 교체  국민일보언론사 선정19시간 전네이버뉴스 \n",
      " 삼성전자, 반도체 새 수장에 전영현 부회장  전자신문언론사 선정23시간 전네이버뉴스 \n",
      " 위기극복 나선 삼성전자, 반도체 수장 전격교체…경계현→전영현(종합)  연합뉴스언론사 선정1일 전네이버뉴스 \n",
      " 위기극복 나선 삼성전자, 반도체 수장 경계현→전영현 전격교체(종합2보)  연합뉴스언론사 선정21시간 전네이버뉴스 \n",
      " 삼성전자 반도체 수장에 전영현 부회장…미래사업단장에 경계현(2보)  뉴스1언론사 선정1일 전네이버뉴스 \n",
      " 삼성전자 반도체 사업 새 수장에 전영현 부회장  SBS언론사 선정1일 전네이버뉴스 \n",
      " 삼성전자 반도체 새로운 수장, 전영현 부회장은 누구?  뉴시스언론사 선정1일 전네이버뉴스 \n",
      " 경계현 떠난다…삼성전자, 새 반도체 수장에 전영현 부회장(상보)  이데일리언론사 선정1일 전네이버뉴스 \n",
      " 삼성전자 반도체 새 수장에 전영현 부회장  지디넷코리아언론사 선정1일 전네이버뉴스 \n",
      " 삼성전자 반도체 수장 전격 교체...부문장에 전영현 부회장  매일경제언론사 선정1일 전네이버뉴스 \n"
     ]
    }
   ],
   "source": [
    "import requests \n",
    "from bs4 import BeautifulSoup\n",
    "\n",
    "res = requests.get('https://search.naver.com/search.naver?ssc=tab.news.all&where=news&sm=tab_jum&query=%EC%82%BC%EC%84%B1%EC%A0%84%EC%9E%90')\n",
    "\n",
    "soup = BeautifulSoup(res.text, 'html.parser')\n",
    "titles = soup.select('.news_tit')\n",
    "# print(type(titles))\n",
    "for t in titles:\n",
    "    print(t.text)\n",
    "    print(t.attrs['href'])\n",
    "\n",
    "print('\\n')\n",
    "\n",
    "titles = soup.select('.sub_bx')\n",
    "for t in titles:\n",
    "    print(t.text)"
   ]
  }
 ],
 "metadata": {
  "kernelspec": {
   "display_name": "Python 3 (ipykernel)",
   "language": "python",
   "name": "python3"
  },
  "language_info": {
   "codemirror_mode": {
    "name": "ipython",
    "version": 3
   },
   "file_extension": ".py",
   "mimetype": "text/x-python",
   "name": "python",
   "nbconvert_exporter": "python",
   "pygments_lexer": "ipython3",
   "version": "3.12.2"
  }
 },
 "nbformat": 4,
 "nbformat_minor": 5
}
