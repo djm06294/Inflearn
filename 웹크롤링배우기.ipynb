{
 "cells": [
  {
   "cell_type": "code",
   "execution_count": 2,
   "id": "af8541d1-86f1-49c2-97b5-523e858b3021",
   "metadata": {},
   "outputs": [],
   "source": [
    "import requests \n",
    "from bs4 import BeautifulSoup\n",
    "# 파이썬은 라이브러리가 매우 많다. \n",
    "# 크롤링은 requests(웹페이지 가져오기), bs4(=Beautiful Soup, html번역, 웹페이지 분석, 크롤링)\n",
    "# 대문자는 class임.\n",
    "\n",
    "res = requests.get('https://n.news.naver.com/mnews/hotissue/article/032/0003297557?type=series&cid=2001071')\n",
    "# 네이버와 대화 시도"
   ]
  },
  {
   "cell_type": "code",
   "execution_count": 3,
   "id": "a065f9ac-276d-4dae-8995-9ed98055ddc1",
   "metadata": {},
   "outputs": [
    {
     "name": "stdout",
     "output_type": "stream",
     "text": [
      "<class 'requests.models.Response'>\n",
      "“더 나빠질 미래…우린 꿈 포기해야 하나요”\n"
     ]
    }
   ],
   "source": [
    "## 인프런 강의 따라하기\n",
    "\n",
    "print(type(res))\n",
    "# res.content\n",
    "# print(html)\n",
    "\n",
    "soup = BeautifulSoup(res.content, 'html.parser')\n",
    "mydata = soup.find('title')\n",
    "print(mydata.get_text())"
   ]
  },
  {
   "cell_type": "code",
   "execution_count": 4,
   "id": "37adb9d7-c98b-4344-8662-3f99050a056d",
   "metadata": {},
   "outputs": [],
   "source": [
    "## 스타트코딩 유툽 따라하기\n",
    "\n",
    "html = res.text\n",
    "\n",
    "soup = BeautifulSoup(html, 'html.parser') # 번역하기\n",
    "word = soup.select_one(\"#dic_area\") # CSS 선택자 (id는 #, class는 .)\n",
    "# print(word.text)                       "
   ]
  },
  {
   "cell_type": "code",
   "execution_count": null,
   "id": "ae036a84-4439-4f5f-98df-15999cefe06e",
   "metadata": {},
   "outputs": [],
   "source": []
  },
  {
   "cell_type": "code",
   "execution_count": 5,
   "id": "6c563c7c-bb6b-4e4e-a467-83a12e7ce815",
   "metadata": {},
   "outputs": [
    {
     "name": "stdout",
     "output_type": "stream",
     "text": [
      "<class 'bs4.element.ResultSet'>\n",
      "고용부, 폭염 대비 근로자 보호 대책 추진\n",
      "오동운 공수처장 첫 출근… \"'채 상병 사건' 제일 중요한 업무\"[뉴스1 PICK]\n",
      "경찰, '호원초 교사 사망' 학부모 등 불송치 결정\n",
      "아파트 주차장서 차량 돌며 기웃거린 의문의 남성들…이유는?\n",
      "“지구 온도는 얼마나 올라갈까요”···기후소송에 나선 초등생의 질문\n",
      "'사법부 해킹' 유출 피해자 4천830명 특정…개별통보 개시\n",
      "KAIST, 세계 최대 규모 암 데이터베이스 구축\n",
      "서울시, 아동성착취물 AI로 90초 만에 찾아 삭제…전국 최초 도입\n",
      "9시간 조사 마친 김호중 \"죄인이 무슨말 필요, 죄송\"\n",
      "훈련병 수류탄 사고에 부모들 ‘철렁’…“軍 신교대 안전대책 전반 재점검 필요”\n",
      "나경원 “당권 도전, 전대 시기 결정되면 고민할 것”\n",
      "기초수급자 탈락에 불만 품은 50대, 시청 들어가 '분신 시도'\n",
      "교회서 숨진 여고생…50대 신도, ‘아동학대살해죄’ 적용되나\n",
      "또 거부권에 \"셀프 면죄부\" 반발 / 여권 잠룡들 '직구' 난타전 / \"죄인이 무슨 말 필요\" [프레스룸LIVE-앵커브리핑]\n",
      "[단독] ‘조국 대학 동기’ 이흥구 대법관, 자녀입시 비리 상고심 회피 신청 안 해\n",
      "자녀 가방에 넣어 몰래 녹음…법원 \"교사 징계 근거 안돼\"\n",
      "\"이건 아동학대 아니다\" 교육감 의견에…교사 불기소 늘었다\n",
      "\"개 짖는 소리 좀 안 나게 해라\" 이웃 폭행 60대 실형\n",
      "폐지줍기·노점으로 모은 전 재산 사후 기부 홍계향 할머니 별세\n",
      "경찰, '음주 뺑소니' 김호중 구속영장...소속사 대표 등도 포함\n",
      "‘버닝썬 때문?’ 구하라 사망 50일 뒤 자택 절도 사건…재조명 된 이유\n",
      "“자고 일어나니 숨져있어”… ‘제주 바둑살인사건’ 항소심서도 징역 15년 중형\n",
      "[단독] 김호중 \"식당·업소서 소주 10잔…성대 보호하려 자제\"\n",
      "'용모 불량, 탈락' 입시비리 의혹 교장 \"불합격·점수변경 지시 안 했다\"\n",
      "\"어려운 이웃 위해\" 노점·폐지로 모은 재산 기부한 홍계향 할머니 별세\n",
      "연금연구회 “소득대체율 44.5%, 개악 중 개악…근거 없고 족보 없어”\n",
      "연금개혁, 마지막까지 불협화음…\"공론화 존중\" vs \"야합·개악 안돼\"\n",
      "\"배현진과 약혼한 사이\" 난동 부린 50대 男, 재판서 혐의 인정\n",
      "\"외모불량 학생 감점시켜라\"…특성화고 교장, 첫 재판서 혐의 부인\n",
      "법원행정처, '사법부 北해킹' 피해자 4830명 피해사실 통지\n",
      "연금행동 \"21대 국회 끝나기 전에 연금개혁해야\"\n",
      "검찰 ‘사기 대출 혐의’ 양문석 당선인 압수수색\n",
      "운전 내내 '휴대전화 삼매경'‥\"7월부터 과태료\"\n",
      "노원구 “광운대역세권 개발 인·허가 등 적극 협력”\n",
      "이웃 건물주 간 갈등 방화로 이어져…60대 피의자 등 4명 부상(종합)\n",
      "'주택·소득 통계조작' 문재인 청와대 참모진 모두 혐의 부인\n",
      "\"죽은 후에도 한 풀어달라\" 강제동원 피해자 유족 손배 소송 1심서 일부 승소\n",
      "노동자 70% 덮칠 폭염... 정부 \"10분 휴식\" 강조하나 강제 아냐\n",
      "청주 상가서 여성 살해한 50대 검거…제2중부고속도로 화물차 불\n",
      "연세대 의대 \"학생들 휴학 신청 승인하겠다…복귀 명분 없어\"\n",
      "경찰, 김호중 구속 영장 신청…\"메모리카드 삼켰다\"\n",
      "'파타야 살인' 피의자 구속 송치‥'강도살인죄' 적용\n",
      "늘봄학교 방학 중 이용 가능…저녁 8시까지 의무 아니다\n",
      "늘어나는 딥페이크… ‘야짤’ 아니라 ‘성범죄물’ 입니다[현장에서]\n",
      "‘코드’ 버리니… 대법관 후보추천 100명 넘었다\n",
      "‘지인 여성 폭행·스토킹’ 전 김제 시의원, 제명 정지 법원서 기각\n"
     ]
    }
   ],
   "source": [
    "import requests \n",
    "from bs4 import BeautifulSoup\n",
    "\n",
    "h = {'User-agent' : 'Mozila/2.0'}  # mozila웹브라우저로 접속한 것처럼 만들기(봇인줄 알고 차단할 경우)\n",
    "res = requests.get('https://news.naver.com/section/102', headers=h)\n",
    "\n",
    "# 한개 가져와보기\n",
    "soup = BeautifulSoup(res.text, 'html.parser')\n",
    "title1 = soup.select_one('.sa_text_strong')\n",
    "# print(title1)\n",
    "# print(type(title1))\n",
    "# print(type(title1.text))\n",
    "# print(title1.text)\n",
    "\n",
    "# 여러개 가져와보기\n",
    "title2 = soup.select('.sa_text_strong')\n",
    "# print(title1)\n",
    "print(type(title2))\n",
    "# print(title2)\n",
    "\n",
    "for t in title2 :\n",
    "    print(t.text)"
   ]
  },
  {
   "cell_type": "code",
   "execution_count": 67,
   "id": "25f5f58a-1364-4b3a-bac8-5c8cdf9be3b6",
   "metadata": {},
   "outputs": [
    {
     "name": "stdout",
     "output_type": "stream",
     "text": [
      "1분기 주요 대기업 고용증가율 0.2%…삼성전자 3천여명 늘어\n",
      "https://www.yna.co.kr/view/AKR20240522046900003?input=1195m\n",
      "'역대급 실적' 기록…삼성전자 제쳤다\n",
      "http://www.wowtv.co.kr/NewsCenter/News/Read?articleId=A202405220011&t=NN\n",
      "[속보] 삼성전자 반도체 수장 교체…전영현 부회장 선임\n",
      "https://www.joongang.co.kr/article/25250697\n",
      "삼성전자 반도체 수장 전격 교체…부문장에 전영현 부회장\n",
      "https://www.chosun.com/economy/tech_it/2024/05/21/ZBJ7LVJNO5FSDC2LPPBEQA4734/?utm_source=naver&utm_medium=referral&utm_campaign=naver-news\n",
      "삼성전자 반도체 수장 전격 교체...무슨 일 벌어졌나\n",
      "https://magazine.hankyung.com/business/article/202405211918b\n",
      "삼성전자 반도체 수장에 전영현 부회장\n",
      "https://news.tvchosun.com/site/data/html_dir/2024/05/21/2024052190038.html\n",
      "위기의 삼성 반도체…전영현 구원투수로\n",
      "https://www.hankyung.com/article/2024052136241\n",
      "삼성전자 반도체 새 수장왔는데...노조는 창사후 두번째 단체행동 예고\n",
      "https://www.mk.co.kr/article/11021639\n",
      "\"차원이 다른 로봇청소기\"…삼성전자 신제품 美·英 호평\n",
      "http://www.edaily.co.kr/news/newspath.asp?newsid=01512086638891544\n",
      "삼성전자, 1분기 세계 TV시장 1위… LG전자는 올레드TV 점유율 52%\n",
      "http://www.segye.com/newsView/20240521515745?OutUrl=naver\n",
      "\n",
      "\n",
      " 삼성전자, 1분기 고용 3000명 늘렸다…HD현대重도 1000명 육박  뉴스12시간 전네이버뉴스 \n",
      " 1분기 대기업 고용 증가율 0.2％…삼성전자 3000명으로 최대  한국경제18분 전네이버뉴스 \n",
      " 대기업 40곳 1Q 고용 증가율 0.2%…삼성전자 3000명 최다  이데일리2시간 전네이버뉴스 \n",
      " 대기업 1분기 고용증가 고작 0.2%…삼성전자 홀로 3천명 고용  노컷뉴스2시간 전네이버뉴스 \n",
      " 현대차, 대기업 경영평가 첫 1위…2위 삼성전자, 3위 LG화학  JTBC언론사 선정2시간 전네이버뉴스 \n",
      " ‘역대급 실적’ 현대차, 대기업 경영평가도 첫 1위…삼성전자는?  문화일보언론사 선정5시간 전네이버뉴스 \n",
      " '역대급 실적' 현대차, 대기업 경영평가 첫 1위…삼성전자는 2위  연합뉴스언론사 선정7시간 전네이버뉴스 \n",
      " 현대차, 대기업 경영평가 첫 1위…삼성전자는 2위  한경비즈니스언론사 선정4시간 전네이버뉴스 \n",
      " 삼성전자 반도체 수장 전격 교체…'반도체 신화' 전영현 부회장 등판  MBN언론사 선정17시간 전네이버뉴스 \n",
      " 삼성 반도체 수장 전격 교체… 전영현 부회장이 이끈다  세계일보언론사 선정1일 전네이버뉴스 \n",
      " [2보] 삼성전자, 반도체 수장 전격 교체…새 수장에 전영현 부회장  연합뉴스언론사 선정1일 전네이버뉴스 \n",
      " '경계현→전영현' 삼성전자, 수장 교체로 반도체 분위기 쇄신  더팩트언론사 선정1일 전네이버뉴스 \n",
      " 엔비디아 계약 실패 탓?… 삼성전자 반도체 수장 교체  국민일보언론사 선정19시간 전네이버뉴스 \n",
      " 삼성전자, 반도체 새 수장에 전영현 부회장  전자신문언론사 선정23시간 전네이버뉴스 \n",
      " 위기극복 나선 삼성전자, 반도체 수장 전격교체…경계현→전영현(종합)  연합뉴스언론사 선정1일 전네이버뉴스 \n",
      " 위기극복 나선 삼성전자, 반도체 수장 경계현→전영현 전격교체(종합2보)  연합뉴스언론사 선정21시간 전네이버뉴스 \n",
      " 삼성전자 반도체 수장에 전영현 부회장…미래사업단장에 경계현(2보)  뉴스1언론사 선정1일 전네이버뉴스 \n",
      " 삼성전자 반도체 사업 새 수장에 전영현 부회장  SBS언론사 선정1일 전네이버뉴스 \n",
      " 삼성전자 반도체 새로운 수장, 전영현 부회장은 누구?  뉴시스언론사 선정1일 전네이버뉴스 \n",
      " 경계현 떠난다…삼성전자, 새 반도체 수장에 전영현 부회장(상보)  이데일리언론사 선정1일 전네이버뉴스 \n",
      " 삼성전자 반도체 새 수장에 전영현 부회장  지디넷코리아언론사 선정1일 전네이버뉴스 \n",
      " 삼성전자 반도체 수장 전격 교체...부문장에 전영현 부회장  매일경제언론사 선정1일 전네이버뉴스 \n"
     ]
    }
   ],
   "source": [
    "import requests \n",
    "from bs4 import BeautifulSoup\n",
    "\n",
    "res = requests.get('https://search.naver.com/search.naver?ssc=tab.news.all&where=news&sm=tab_jum&query=%EC%82%BC%EC%84%B1%EC%A0%84%EC%9E%90')\n",
    "\n",
    "soup = BeautifulSoup(res.text, 'html.parser')\n",
    "titles = soup.select('.news_tit')\n",
    "# print(type(titles))\n",
    "for t in titles:\n",
    "    print(t.text)\n",
    "    print(t.attrs['href'])\n",
    "\n",
    "print('\\n')\n",
    "\n",
    "titles = soup.select('.sub_bx')\n",
    "for t in titles:\n",
    "    print(t.text)"
   ]
  }
 ],
 "metadata": {
  "kernelspec": {
   "display_name": "Python 3 (ipykernel)",
   "language": "python",
   "name": "python3"
  },
  "language_info": {
   "codemirror_mode": {
    "name": "ipython",
    "version": 3
   },
   "file_extension": ".py",
   "mimetype": "text/x-python",
   "name": "python",
   "nbconvert_exporter": "python",
   "pygments_lexer": "ipython3",
   "version": "3.12.2"
  }
 },
 "nbformat": 4,
 "nbformat_minor": 5
}
